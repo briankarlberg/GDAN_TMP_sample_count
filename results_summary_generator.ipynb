{
 "cells": [
  {
   "cell_type": "code",
   "execution_count": null,
   "metadata": {},
   "outputs": [],
   "source": [
    "# Make a summary file of the sample response raw data"
   ]
  },
  {
   "cell_type": "code",
   "execution_count": 3,
   "metadata": {},
   "outputs": [],
   "source": [
    "import pandas as pd\n",
    "import glob\n",
    "import matplotlib.pyplot as plt\n",
    "from sklearn.metrics import f1_score\n",
    "from scipy.optimize import curve_fit\n",
    "import numpy as np # need for linspace in plot\n",
    "from statistics import mean\n",
    "import statistics\n",
    "import time\n",
    "pd.options.display.max_rows = 500"
   ]
  },
  {
   "cell_type": "code",
   "execution_count": 51,
   "metadata": {},
   "outputs": [],
   "source": [
    "path_list = sorted(glob.glob('../20210724_exacloud_results/*.tsv'))\n",
    "cohort_list = []\n",
    "for path in path_list:\n",
    "    cohort = path.split('/')[2].split('.')[0]\n",
    "    if cohort not in cohort_list:\n",
    "        cohort_list.append(cohort)"
   ]
  },
  {
   "cell_type": "code",
   "execution_count": 82,
   "metadata": {},
   "outputs": [
    {
     "name": "stdout",
     "output_type": "stream",
     "text": [
      "144.905375957489\n",
      "all done\n"
     ]
    }
   ],
   "source": [
    "start = time.time()\n",
    "store_frame = pd.DataFrame(columns=['Cohort',\n",
    "                                'Sample_counts',\n",
    "                                'Average_scores',\n",
    "                                'Resample_by_step',\n",
    "                                'Stdev_step'])\n",
    "for cohort in cohort_list:\n",
    "    cohort_path_block = sorted(\n",
    "        glob.glob('../20210724_exacloud_results/'+cohort+'*.tsv'))\n",
    "    \n",
    "    sample_counts = []\n",
    "    average_scores = []\n",
    "    resample_scores_by_step = []\n",
    "    stdev_step = []\n",
    "    for path in cohort_path_block:\n",
    "        sample_size = int(path.split('.')[5])\n",
    "        sample_counts.append(sample_size)\n",
    "\n",
    "        file = pd.read_csv(path, sep = '\\t')\n",
    "        resample_scores = []\n",
    "        test = file[file['Test'] == 1].copy()\n",
    "        test.reset_index(inplace = True, drop = True)\n",
    "        for i in test.Resampling.unique():\n",
    "\n",
    "            scoreDF = test[test.Resampling == i]\n",
    "            score = f1_score(scoreDF.iloc[:,4],\n",
    "                     scoreDF.iloc[:,5],\n",
    "                     average='weighted')\n",
    "            resample_scores.append(score)\n",
    "        stdev_step.append(statistics.stdev(resample_scores))\n",
    "        resample_scores_by_step.append(resample_scores)    \n",
    "        average_scores.append(mean(resample_scores))\n",
    "    score_frame = pd.DataFrame([[cohort, sample_counts, average_scores,\n",
    "                                 resample_scores_by_step, stdev_step]],\n",
    "                           columns=['Cohort',\n",
    "                                    'Sample_counts',\n",
    "                                    'Average_scores',\n",
    "                                    'Resample_by_step',\n",
    "                                    'Stdev_step'])\n",
    "    store_frame = pd.concat([store_frame, score_frame])\n",
    "#     if cohort == 'BLCA':\n",
    "#         break\n",
    "store_frame.reset_index(inplace = True, drop = True)\n",
    "end = time.time() - start\n",
    "print(str(end))\n",
    "print('all done')"
   ]
  },
  {
   "cell_type": "code",
   "execution_count": 106,
   "metadata": {},
   "outputs": [
    {
     "data": {
      "text/plain": [
       "list"
      ]
     },
     "execution_count": 106,
     "metadata": {},
     "output_type": "execute_result"
    }
   ],
   "source": [
    "type(store_frame.iloc[1,3]) # Check the raw resampling scores"
   ]
  },
  {
   "cell_type": "code",
   "execution_count": 99,
   "metadata": {},
   "outputs": [],
   "source": [
    "store_frame.to_csv('Sample_count_accuracy_response_20210729.tsv', sep = '\\t', index = False)"
   ]
  },
  {
   "cell_type": "code",
   "execution_count": 4,
   "metadata": {},
   "outputs": [],
   "source": [
    "store_frame_test = pd.read_csv(\n",
    "    'Sample_count_accuracy_response_20210729.tsv',\n",
    "    sep = '\\t')"
   ]
  },
  {
   "cell_type": "code",
   "execution_count": 5,
   "metadata": {},
   "outputs": [
    {
     "data": {
      "text/plain": [
       "list"
      ]
     },
     "execution_count": 5,
     "metadata": {},
     "output_type": "execute_result"
    }
   ],
   "source": [
    "type(eval(store_frame_test.iloc[1,3])) # Recheck the raw resampling scores"
   ]
  },
  {
   "cell_type": "code",
   "execution_count": 6,
   "metadata": {},
   "outputs": [
    {
     "data": {
      "text/plain": [
       "25"
      ]
     },
     "execution_count": 6,
     "metadata": {},
     "output_type": "execute_result"
    }
   ],
   "source": [
    "len(eval(store_frame_test.iloc[1,3])) # 25 lists of 100 scores for each sample size"
   ]
  },
  {
   "cell_type": "code",
   "execution_count": 8,
   "metadata": {},
   "outputs": [
    {
     "data": {
      "text/plain": [
       "100"
      ]
     },
     "execution_count": 8,
     "metadata": {},
     "output_type": "execute_result"
    }
   ],
   "source": [
    "len(eval(store_frame_test.iloc[1,3])[0]) # 100 resampling scores at the sample size of 10"
   ]
  }
 ],
 "metadata": {
  "kernelspec": {
   "display_name": "Python 3",
   "language": "python",
   "name": "python3"
  },
  "language_info": {
   "codemirror_mode": {
    "name": "ipython",
    "version": 3
   },
   "file_extension": ".py",
   "mimetype": "text/x-python",
   "name": "python",
   "nbconvert_exporter": "python",
   "pygments_lexer": "ipython3",
   "version": "3.7.3"
  }
 },
 "nbformat": 4,
 "nbformat_minor": 4
}
