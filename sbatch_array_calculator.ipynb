{
 "cells": [
  {
   "cell_type": "markdown",
   "metadata": {},
   "source": [
    "Sbatch array calculator\n",
    "Purpose of this file is to count sample size of each cohort\n",
    "Use sample"
   ]
  },
  {
   "cell_type": "markdown",
   "metadata": {},
   "source": [
    "Example shell file with array argument\n",
    "The array argument is passed as second command line argument to python script"
   ]
  },
  {
   "cell_type": "markdown",
   "metadata": {},
   "source": [
    "#!/bin/bash\n",
    "\n",
    "#!/bin/bash\n",
    "#SBATCH --nodes=1\n",
    "#SBATCH --job-name=sample_response\n",
    "#SBATCH --time=0-24:00:00\n",
    "#SBATCH --partition=exacloud\n",
    "#SBATCH --ntasks=1\n",
    "#SBATCH --cpus-per-task=1\n",
    "#SBATCH --output=./output_reports/slurm.%N.%j.out\n",
    "#SBATCH --error=./error_reports/slurm.%N.%j.err\n",
    "#SBATCH --mail-type=END,FAIL\n",
    "#SBATCH --mail-user=karlberb@ohsu.edu\n",
    "#SBATCH -a 10-70:10\n",
    "\n",
    "python reproduce.py $1 $SLURM_ARRAY_TASK_ID"
   ]
  },
  {
   "cell_type": "markdown",
   "metadata": {},
   "source": [
    "Call shell file from command line:"
   ]
  },
  {
   "cell_type": "markdown",
   "metadata": {},
   "source": [
    "sbatch reproduce.sh ACC"
   ]
  },
  {
   "cell_type": "code",
   "execution_count": 6,
   "metadata": {},
   "outputs": [
    {
     "name": "stdout",
     "output_type": "stream",
     "text": [
      "/Users/karlberb/work/tmp/sample_response_reproduce/result_stitching\n"
     ]
    }
   ],
   "source": [
    "# steps: find some files with cohort sample sizes\n",
    "!pwd"
   ]
  },
  {
   "cell_type": "code",
   "execution_count": 7,
   "metadata": {},
   "outputs": [
    {
     "name": "stdout",
     "output_type": "stream",
     "text": [
      "ACC_2021-07-21.tsv             result_stitcher.ipynb\n",
      "BLCA_2021-07-21.tsv            sbatch_array_calculator.ipynb\n",
      "BRCA_2021-07-21.tsv\n"
     ]
    }
   ],
   "source": [
    "ls"
   ]
  },
  {
   "cell_type": "code",
   "execution_count": 8,
   "metadata": {},
   "outputs": [
    {
     "name": "stdout",
     "output_type": "stream",
     "text": [
      "ACC_2021-07-21.tsv             result_stitcher.ipynb\n",
      "BLCA_2021-07-21.tsv            sbatch_array_calculator.ipynb\n",
      "BRCA_2021-07-21.tsv\n"
     ]
    }
   ],
   "source": [
    "ls"
   ]
  },
  {
   "cell_type": "code",
   "execution_count": 6,
   "metadata": {},
   "outputs": [
    {
     "name": "stdout",
     "output_type": "stream",
     "text": [
      "/Users/karlberb/work/tmp/sample_response_reproduce/features\n"
     ]
    }
   ],
   "source": [
    "cd features/"
   ]
  },
  {
   "cell_type": "code",
   "execution_count": 10,
   "metadata": {},
   "outputs": [
    {
     "name": "stdout",
     "output_type": "stream",
     "text": [
      "/Users/karlberb/work/tmp/sample_response_reproduce\n"
     ]
    }
   ],
   "source": [
    "cd .."
   ]
  },
  {
   "cell_type": "code",
   "execution_count": 4,
   "metadata": {},
   "outputs": [
    {
     "name": "stdout",
     "output_type": "stream",
     "text": [
      "ACC_2021-07-21.tsv             result_stitcher.ipynb\n",
      "BLCA_2021-07-21.tsv            sbatch_array_calculator.ipynb\n",
      "BRCA_2021-07-21.tsv\n"
     ]
    }
   ],
   "source": [
    "ls"
   ]
  },
  {
   "cell_type": "code",
   "execution_count": 5,
   "metadata": {},
   "outputs": [
    {
     "name": "stdout",
     "output_type": "stream",
     "text": [
      "ls: cross_val/: No such file or directory\n"
     ]
    }
   ],
   "source": [
    "ls cross_val/"
   ]
  },
  {
   "cell_type": "code",
   "execution_count": 1,
   "metadata": {},
   "outputs": [],
   "source": [
    "import pandas as pd\n",
    "import glob"
   ]
  },
  {
   "cell_type": "code",
   "execution_count": 9,
   "metadata": {},
   "outputs": [],
   "source": [
    "fold_file_list = sorted(glob.glob('../cross_val/*.tsv'))"
   ]
  },
  {
   "cell_type": "code",
   "execution_count": 10,
   "metadata": {},
   "outputs": [
    {
     "data": {
      "text/plain": [
       "['../cross_val/ACC_CVfolds_5FOLD_v12_20210228.tsv',\n",
       " '../cross_val/BLCA_CVfolds_5FOLD_v12_20210228.tsv',\n",
       " '../cross_val/BRCA_CVfolds_5FOLD_v12_20210228.tsv',\n",
       " '../cross_val/CESC_CVfolds_5FOLD_v12_20210228.tsv',\n",
       " '../cross_val/COADREAD_CVfolds_5FOLD_v12_20210228.tsv',\n",
       " '../cross_val/ESCC_CVfolds_5FOLD_v12_20210228.tsv',\n",
       " '../cross_val/GEA_CVfolds_5FOLD_v12_20210228.tsv',\n",
       " '../cross_val/HNSC_CVfolds_5FOLD_v12_20210228.tsv',\n",
       " '../cross_val/KIRCKICH_CVfolds_5FOLD_v12_20210228.tsv',\n",
       " '../cross_val/KIRP_CVfolds_5FOLD_v12_20210228.tsv',\n",
       " '../cross_val/LGGGBM_CVfolds_5FOLD_v12_20210228.tsv',\n",
       " '../cross_val/LIHCCHOL_CVfolds_5FOLD_v12_20210228.tsv',\n",
       " '../cross_val/LUAD_CVfolds_5FOLD_v12_20210228.tsv',\n",
       " '../cross_val/LUSC_CVfolds_5FOLD_v12_20210228.tsv',\n",
       " '../cross_val/MESO_CVfolds_5FOLD_v12_20210228.tsv',\n",
       " '../cross_val/OV_CVfolds_5FOLD_v12_20210228.tsv',\n",
       " '../cross_val/PAAD_CVfolds_5FOLD_v12_20210228.tsv',\n",
       " '../cross_val/PCPG_CVfolds_5FOLD_v12_20210228.tsv',\n",
       " '../cross_val/PRAD_CVfolds_5FOLD_v12_20210228.tsv',\n",
       " '../cross_val/SARC_CVfolds_5FOLD_v12_20210228.tsv',\n",
       " '../cross_val/SKCM_CVfolds_5FOLD_v12_20210228.tsv',\n",
       " '../cross_val/TGCT_CVfolds_5FOLD_v12_20210228.tsv',\n",
       " '../cross_val/THCA_CVfolds_5FOLD_v12_20210228.tsv',\n",
       " '../cross_val/THYM_CVfolds_5FOLD_v12_20210228.tsv',\n",
       " '../cross_val/UCEC_CVfolds_5FOLD_v12_20210228.tsv',\n",
       " '../cross_val/UVM_CVfolds_5FOLD_v12_20210228.tsv']"
      ]
     },
     "execution_count": 10,
     "metadata": {},
     "output_type": "execute_result"
    }
   ],
   "source": [
    "fold_file_list"
   ]
  },
  {
   "cell_type": "code",
   "execution_count": 30,
   "metadata": {},
   "outputs": [],
   "source": [
    "sample_series = pd.Series(dtype = 'object')\n",
    "\n",
    "for i in fold_file_list:\n",
    "    CV_table = pd.read_csv(i, sep = '\\t', index_col = 0)\n",
    "#     print(CV_table.index.name)\n",
    "#     print(len(CV_table))\n",
    "    si = pd.Series(len(CV_table), index=[CV_table.index.name])\n",
    "    sample_series = pd.concat([sample_series, si])"
   ]
  },
  {
   "cell_type": "code",
   "execution_count": 31,
   "metadata": {},
   "outputs": [
    {
     "data": {
      "text/plain": [
       "ACC          76\n",
       "BLCA        399\n",
       "BRCA        995\n",
       "CESC        177\n",
       "COADREAD    449\n",
       "ESCC         86\n",
       "GEA         461\n",
       "HNSC        506\n",
       "KIRCKICH    556\n",
       "KIRP        155\n",
       "LGGGBM      782\n",
       "LIHCCHOL    378\n",
       "LUAD        500\n",
       "LUSC        460\n",
       "MESO         74\n",
       "OV          285\n",
       "PAAD         76\n",
       "PCPG        159\n",
       "PRAD        273\n",
       "SARC        191\n",
       "SKCM        444\n",
       "TGCT        133\n",
       "THCA        486\n",
       "THYM        117\n",
       "UCEC        499\n",
       "UVM          74\n",
       "dtype: int64"
      ]
     },
     "execution_count": 31,
     "metadata": {},
     "output_type": "execute_result"
    }
   ],
   "source": [
    "# Cell used to write sub 250 cohort shell files\n",
    "sample_series"
   ]
  },
  {
   "cell_type": "markdown",
   "metadata": {},
   "source": [
    "Example call sub 250 cohorts:\n",
    "sbatch SARC_reproduce.sh SARC"
   ]
  },
  {
   "cell_type": "markdown",
   "metadata": {},
   "source": [
    "Example call for full 250 cohorts:\n",
    "sbatch reproduce_full_250.sh BLCA"
   ]
  },
  {
   "cell_type": "code",
   "execution_count": 20,
   "metadata": {},
   "outputs": [
    {
     "data": {
      "text/plain": [
       "'ACC'"
      ]
     },
     "execution_count": 20,
     "metadata": {},
     "output_type": "execute_result"
    }
   ],
   "source": [
    "CV_table.index.name"
   ]
  },
  {
   "cell_type": "code",
   "execution_count": 17,
   "metadata": {},
   "outputs": [
    {
     "data": {
      "text/html": [
       "<div>\n",
       "<style scoped>\n",
       "    .dataframe tbody tr th:only-of-type {\n",
       "        vertical-align: middle;\n",
       "    }\n",
       "\n",
       "    .dataframe tbody tr th {\n",
       "        vertical-align: top;\n",
       "    }\n",
       "\n",
       "    .dataframe thead th {\n",
       "        text-align: right;\n",
       "    }\n",
       "</style>\n",
       "<table border=\"1\" class=\"dataframe\">\n",
       "  <thead>\n",
       "    <tr style=\"text-align: right;\">\n",
       "      <th></th>\n",
       "      <th>Labels</th>\n",
       "      <th>R1:F1</th>\n",
       "      <th>R1:F2</th>\n",
       "      <th>R1:F3</th>\n",
       "      <th>R1:F4</th>\n",
       "      <th>R1:F5</th>\n",
       "      <th>R2:F1</th>\n",
       "      <th>R2:F2</th>\n",
       "      <th>R2:F3</th>\n",
       "      <th>R2:F4</th>\n",
       "      <th>...</th>\n",
       "      <th>R99:F1</th>\n",
       "      <th>R99:F2</th>\n",
       "      <th>R99:F3</th>\n",
       "      <th>R99:F4</th>\n",
       "      <th>R99:F5</th>\n",
       "      <th>R100:F1</th>\n",
       "      <th>R100:F2</th>\n",
       "      <th>R100:F3</th>\n",
       "      <th>R100:F4</th>\n",
       "      <th>R100:F5</th>\n",
       "    </tr>\n",
       "    <tr>\n",
       "      <th>ACC</th>\n",
       "      <th></th>\n",
       "      <th></th>\n",
       "      <th></th>\n",
       "      <th></th>\n",
       "      <th></th>\n",
       "      <th></th>\n",
       "      <th></th>\n",
       "      <th></th>\n",
       "      <th></th>\n",
       "      <th></th>\n",
       "      <th></th>\n",
       "      <th></th>\n",
       "      <th></th>\n",
       "      <th></th>\n",
       "      <th></th>\n",
       "      <th></th>\n",
       "      <th></th>\n",
       "      <th></th>\n",
       "      <th></th>\n",
       "      <th></th>\n",
       "      <th></th>\n",
       "    </tr>\n",
       "  </thead>\n",
       "  <tbody>\n",
       "    <tr>\n",
       "      <th>TCGA-OR-A5J1</th>\n",
       "      <td>ACC_2</td>\n",
       "      <td>1</td>\n",
       "      <td>0</td>\n",
       "      <td>0</td>\n",
       "      <td>0</td>\n",
       "      <td>0</td>\n",
       "      <td>0</td>\n",
       "      <td>0</td>\n",
       "      <td>1</td>\n",
       "      <td>0</td>\n",
       "      <td>...</td>\n",
       "      <td>0</td>\n",
       "      <td>0</td>\n",
       "      <td>0</td>\n",
       "      <td>1</td>\n",
       "      <td>0</td>\n",
       "      <td>0</td>\n",
       "      <td>0</td>\n",
       "      <td>0</td>\n",
       "      <td>1</td>\n",
       "      <td>0</td>\n",
       "    </tr>\n",
       "    <tr>\n",
       "      <th>TCGA-OR-A5J2</th>\n",
       "      <td>ACC_2</td>\n",
       "      <td>0</td>\n",
       "      <td>0</td>\n",
       "      <td>1</td>\n",
       "      <td>0</td>\n",
       "      <td>0</td>\n",
       "      <td>0</td>\n",
       "      <td>0</td>\n",
       "      <td>0</td>\n",
       "      <td>0</td>\n",
       "      <td>...</td>\n",
       "      <td>1</td>\n",
       "      <td>0</td>\n",
       "      <td>0</td>\n",
       "      <td>0</td>\n",
       "      <td>0</td>\n",
       "      <td>0</td>\n",
       "      <td>0</td>\n",
       "      <td>1</td>\n",
       "      <td>0</td>\n",
       "      <td>0</td>\n",
       "    </tr>\n",
       "    <tr>\n",
       "      <th>TCGA-OR-A5J3</th>\n",
       "      <td>ACC_3</td>\n",
       "      <td>1</td>\n",
       "      <td>0</td>\n",
       "      <td>0</td>\n",
       "      <td>0</td>\n",
       "      <td>0</td>\n",
       "      <td>0</td>\n",
       "      <td>1</td>\n",
       "      <td>0</td>\n",
       "      <td>0</td>\n",
       "      <td>...</td>\n",
       "      <td>0</td>\n",
       "      <td>0</td>\n",
       "      <td>0</td>\n",
       "      <td>1</td>\n",
       "      <td>0</td>\n",
       "      <td>0</td>\n",
       "      <td>0</td>\n",
       "      <td>1</td>\n",
       "      <td>0</td>\n",
       "      <td>0</td>\n",
       "    </tr>\n",
       "    <tr>\n",
       "      <th>TCGA-OR-A5J5</th>\n",
       "      <td>ACC_3</td>\n",
       "      <td>0</td>\n",
       "      <td>0</td>\n",
       "      <td>1</td>\n",
       "      <td>0</td>\n",
       "      <td>0</td>\n",
       "      <td>0</td>\n",
       "      <td>0</td>\n",
       "      <td>1</td>\n",
       "      <td>0</td>\n",
       "      <td>...</td>\n",
       "      <td>0</td>\n",
       "      <td>1</td>\n",
       "      <td>0</td>\n",
       "      <td>0</td>\n",
       "      <td>0</td>\n",
       "      <td>0</td>\n",
       "      <td>0</td>\n",
       "      <td>1</td>\n",
       "      <td>0</td>\n",
       "      <td>0</td>\n",
       "    </tr>\n",
       "    <tr>\n",
       "      <th>TCGA-OR-A5J6</th>\n",
       "      <td>ACC_1</td>\n",
       "      <td>0</td>\n",
       "      <td>0</td>\n",
       "      <td>1</td>\n",
       "      <td>0</td>\n",
       "      <td>0</td>\n",
       "      <td>0</td>\n",
       "      <td>0</td>\n",
       "      <td>0</td>\n",
       "      <td>1</td>\n",
       "      <td>...</td>\n",
       "      <td>0</td>\n",
       "      <td>1</td>\n",
       "      <td>0</td>\n",
       "      <td>0</td>\n",
       "      <td>0</td>\n",
       "      <td>0</td>\n",
       "      <td>0</td>\n",
       "      <td>0</td>\n",
       "      <td>0</td>\n",
       "      <td>1</td>\n",
       "    </tr>\n",
       "    <tr>\n",
       "      <th>...</th>\n",
       "      <td>...</td>\n",
       "      <td>...</td>\n",
       "      <td>...</td>\n",
       "      <td>...</td>\n",
       "      <td>...</td>\n",
       "      <td>...</td>\n",
       "      <td>...</td>\n",
       "      <td>...</td>\n",
       "      <td>...</td>\n",
       "      <td>...</td>\n",
       "      <td>...</td>\n",
       "      <td>...</td>\n",
       "      <td>...</td>\n",
       "      <td>...</td>\n",
       "      <td>...</td>\n",
       "      <td>...</td>\n",
       "      <td>...</td>\n",
       "      <td>...</td>\n",
       "      <td>...</td>\n",
       "      <td>...</td>\n",
       "      <td>...</td>\n",
       "    </tr>\n",
       "    <tr>\n",
       "      <th>TCGA-OU-A5PI</th>\n",
       "      <td>ACC_3</td>\n",
       "      <td>1</td>\n",
       "      <td>0</td>\n",
       "      <td>0</td>\n",
       "      <td>0</td>\n",
       "      <td>0</td>\n",
       "      <td>0</td>\n",
       "      <td>0</td>\n",
       "      <td>0</td>\n",
       "      <td>0</td>\n",
       "      <td>...</td>\n",
       "      <td>1</td>\n",
       "      <td>0</td>\n",
       "      <td>0</td>\n",
       "      <td>0</td>\n",
       "      <td>0</td>\n",
       "      <td>0</td>\n",
       "      <td>0</td>\n",
       "      <td>0</td>\n",
       "      <td>1</td>\n",
       "      <td>0</td>\n",
       "    </tr>\n",
       "    <tr>\n",
       "      <th>TCGA-PA-A5YG</th>\n",
       "      <td>ACC_1</td>\n",
       "      <td>0</td>\n",
       "      <td>0</td>\n",
       "      <td>1</td>\n",
       "      <td>0</td>\n",
       "      <td>0</td>\n",
       "      <td>0</td>\n",
       "      <td>1</td>\n",
       "      <td>0</td>\n",
       "      <td>0</td>\n",
       "      <td>...</td>\n",
       "      <td>0</td>\n",
       "      <td>1</td>\n",
       "      <td>0</td>\n",
       "      <td>0</td>\n",
       "      <td>0</td>\n",
       "      <td>0</td>\n",
       "      <td>0</td>\n",
       "      <td>0</td>\n",
       "      <td>1</td>\n",
       "      <td>0</td>\n",
       "    </tr>\n",
       "    <tr>\n",
       "      <th>TCGA-PK-A5H9</th>\n",
       "      <td>ACC_1</td>\n",
       "      <td>0</td>\n",
       "      <td>0</td>\n",
       "      <td>1</td>\n",
       "      <td>0</td>\n",
       "      <td>0</td>\n",
       "      <td>0</td>\n",
       "      <td>1</td>\n",
       "      <td>0</td>\n",
       "      <td>0</td>\n",
       "      <td>...</td>\n",
       "      <td>0</td>\n",
       "      <td>0</td>\n",
       "      <td>0</td>\n",
       "      <td>1</td>\n",
       "      <td>0</td>\n",
       "      <td>1</td>\n",
       "      <td>0</td>\n",
       "      <td>0</td>\n",
       "      <td>0</td>\n",
       "      <td>0</td>\n",
       "    </tr>\n",
       "    <tr>\n",
       "      <th>TCGA-PK-A5HA</th>\n",
       "      <td>ACC_1</td>\n",
       "      <td>0</td>\n",
       "      <td>1</td>\n",
       "      <td>0</td>\n",
       "      <td>0</td>\n",
       "      <td>0</td>\n",
       "      <td>0</td>\n",
       "      <td>0</td>\n",
       "      <td>0</td>\n",
       "      <td>1</td>\n",
       "      <td>...</td>\n",
       "      <td>0</td>\n",
       "      <td>1</td>\n",
       "      <td>0</td>\n",
       "      <td>0</td>\n",
       "      <td>0</td>\n",
       "      <td>1</td>\n",
       "      <td>0</td>\n",
       "      <td>0</td>\n",
       "      <td>0</td>\n",
       "      <td>0</td>\n",
       "    </tr>\n",
       "    <tr>\n",
       "      <th>TCGA-PK-A5HB</th>\n",
       "      <td>ACC_2</td>\n",
       "      <td>0</td>\n",
       "      <td>0</td>\n",
       "      <td>0</td>\n",
       "      <td>0</td>\n",
       "      <td>1</td>\n",
       "      <td>0</td>\n",
       "      <td>1</td>\n",
       "      <td>0</td>\n",
       "      <td>0</td>\n",
       "      <td>...</td>\n",
       "      <td>0</td>\n",
       "      <td>1</td>\n",
       "      <td>0</td>\n",
       "      <td>0</td>\n",
       "      <td>0</td>\n",
       "      <td>1</td>\n",
       "      <td>0</td>\n",
       "      <td>0</td>\n",
       "      <td>0</td>\n",
       "      <td>0</td>\n",
       "    </tr>\n",
       "  </tbody>\n",
       "</table>\n",
       "<p>76 rows × 501 columns</p>\n",
       "</div>"
      ],
      "text/plain": [
       "             Labels  R1:F1  R1:F2  R1:F3  R1:F4  R1:F5  R2:F1  R2:F2  R2:F3  \\\n",
       "ACC                                                                           \n",
       "TCGA-OR-A5J1  ACC_2      1      0      0      0      0      0      0      1   \n",
       "TCGA-OR-A5J2  ACC_2      0      0      1      0      0      0      0      0   \n",
       "TCGA-OR-A5J3  ACC_3      1      0      0      0      0      0      1      0   \n",
       "TCGA-OR-A5J5  ACC_3      0      0      1      0      0      0      0      1   \n",
       "TCGA-OR-A5J6  ACC_1      0      0      1      0      0      0      0      0   \n",
       "...             ...    ...    ...    ...    ...    ...    ...    ...    ...   \n",
       "TCGA-OU-A5PI  ACC_3      1      0      0      0      0      0      0      0   \n",
       "TCGA-PA-A5YG  ACC_1      0      0      1      0      0      0      1      0   \n",
       "TCGA-PK-A5H9  ACC_1      0      0      1      0      0      0      1      0   \n",
       "TCGA-PK-A5HA  ACC_1      0      1      0      0      0      0      0      0   \n",
       "TCGA-PK-A5HB  ACC_2      0      0      0      0      1      0      1      0   \n",
       "\n",
       "              R2:F4  ...  R99:F1  R99:F2  R99:F3  R99:F4  R99:F5  R100:F1  \\\n",
       "ACC                  ...                                                    \n",
       "TCGA-OR-A5J1      0  ...       0       0       0       1       0        0   \n",
       "TCGA-OR-A5J2      0  ...       1       0       0       0       0        0   \n",
       "TCGA-OR-A5J3      0  ...       0       0       0       1       0        0   \n",
       "TCGA-OR-A5J5      0  ...       0       1       0       0       0        0   \n",
       "TCGA-OR-A5J6      1  ...       0       1       0       0       0        0   \n",
       "...             ...  ...     ...     ...     ...     ...     ...      ...   \n",
       "TCGA-OU-A5PI      0  ...       1       0       0       0       0        0   \n",
       "TCGA-PA-A5YG      0  ...       0       1       0       0       0        0   \n",
       "TCGA-PK-A5H9      0  ...       0       0       0       1       0        1   \n",
       "TCGA-PK-A5HA      1  ...       0       1       0       0       0        1   \n",
       "TCGA-PK-A5HB      0  ...       0       1       0       0       0        1   \n",
       "\n",
       "              R100:F2  R100:F3  R100:F4  R100:F5  \n",
       "ACC                                               \n",
       "TCGA-OR-A5J1        0        0        1        0  \n",
       "TCGA-OR-A5J2        0        1        0        0  \n",
       "TCGA-OR-A5J3        0        1        0        0  \n",
       "TCGA-OR-A5J5        0        1        0        0  \n",
       "TCGA-OR-A5J6        0        0        0        1  \n",
       "...               ...      ...      ...      ...  \n",
       "TCGA-OU-A5PI        0        0        1        0  \n",
       "TCGA-PA-A5YG        0        0        1        0  \n",
       "TCGA-PK-A5H9        0        0        0        0  \n",
       "TCGA-PK-A5HA        0        0        0        0  \n",
       "TCGA-PK-A5HB        0        0        0        0  \n",
       "\n",
       "[76 rows x 501 columns]"
      ]
     },
     "execution_count": 17,
     "metadata": {},
     "output_type": "execute_result"
    }
   ],
   "source": [
    "CV_table"
   ]
  },
  {
   "cell_type": "code",
   "execution_count": null,
   "metadata": {},
   "outputs": [],
   "source": []
  }
 ],
 "metadata": {
  "kernelspec": {
   "display_name": "Python 3",
   "language": "python",
   "name": "python3"
  },
  "language_info": {
   "codemirror_mode": {
    "name": "ipython",
    "version": 3
   },
   "file_extension": ".py",
   "mimetype": "text/x-python",
   "name": "python",
   "nbconvert_exporter": "python",
   "pygments_lexer": "ipython3",
   "version": "3.7.3"
  }
 },
 "nbformat": 4,
 "nbformat_minor": 4
}
