{
 "cells": [
  {
   "cell_type": "code",
   "execution_count": null,
   "metadata": {},
   "outputs": [],
   "source": [
    "# This is\n",
    "# Version 4:\n",
    "    # add storing of actual samples / scores\n",
    "    # add formating to the ACC plot to prep for stitching\n",
    "    # Setup for error bars\n",
    "    \n",
    "# Version 5 will:\n",
    "    # Delete prediction and actuals object generation\n",
    "    # Add observed error bars\n",
    "    # Add prediction error bars\n",
    "    # Focus on plotting and plot formatting\n",
    "    # Put box around key"
   ]
  },
  {
   "cell_type": "code",
   "execution_count": null,
   "metadata": {},
   "outputs": [],
   "source": [
    "# Latest draft of TMP\n",
    "https://docs.google.com/document/d/1LgIEkQ_pV7uQacI4SDf1Je-Ttk7d-1d2HlGrhMKuDfQ/edit"
   ]
  },
  {
   "cell_type": "code",
   "execution_count": 166,
   "metadata": {},
   "outputs": [],
   "source": [
    "import pandas as pd\n",
    "import json\n",
    "from statistics import mean\n",
    "from scipy.optimize import curve_fit\n",
    "import matplotlib.pyplot as plt\n",
    "import numpy as np\n",
    "import statistics\n",
    "import math\n",
    "# import matplotlib.patches as mpatches\n",
    "# from matplotlib.lines import Line2D\n",
    "# from matplotlib.legend_handler import HandlerPatch"
   ]
  },
  {
   "cell_type": "code",
   "execution_count": 2,
   "metadata": {},
   "outputs": [],
   "source": [
    "colors = pd.read_csv('data/TMP_cohort_colors_n26_20210228.csv',\n",
    "                     sep = ',', skiprows = 1, names = ['Cohort', 'Hexi'])\n",
    "\n",
    "sample_response_DF = pd.read_csv('data/sample_response_DF_20210805.tsv',\n",
    "                                          sep = '\\t')"
   ]
  },
  {
   "cell_type": "code",
   "execution_count": 29,
   "metadata": {},
   "outputs": [],
   "source": [
    "lower = [0,-1000,-1] # Define bounds\n",
    "upper = [.5,1000,0]\n",
    "# Define function, use to make 100 predictions at sample sizes 80 to 250\n",
    "def Y_acc(x, a, b, c):\n",
    "    Y_acc = (1-a)-b*x**c\n",
    "    return Y_acc"
   ]
  },
  {
   "cell_type": "code",
   "execution_count": null,
   "metadata": {},
   "outputs": [],
   "source": [
    "# Make a Burr12 prediction for each of the 11 partial response cohorts at each of these sample sizes\n",
    "prediction_samples = [80,90,100,\n",
    "         110,120,130,140,150,160,170,180,\n",
    "         190,200,210,220,230,240,250]"
   ]
  },
  {
   "cell_type": "code",
   "execution_count": 33,
   "metadata": {},
   "outputs": [],
   "source": [
    "partial_response_cohorts_to_predict = [('ACC', 0), # index corresponds to sample_response_DF\n",
    "                        ('CESC', 3),\n",
    "                        ('ESCC', 5),\n",
    "                        ('KIRP', 9),\n",
    "                        ('MESO', 14),\n",
    "                        ('PAAD', 16),\n",
    "                        ('PCPG', 17),\n",
    "                        ('SARC', 19),\n",
    "                        ('TGCT', 21),\n",
    "                        ('THYM', 23),\n",
    "                        ('UVM', 25),]"
   ]
  },
  {
   "cell_type": "code",
   "execution_count": 117,
   "metadata": {},
   "outputs": [
    {
     "name": "stdout",
     "output_type": "stream",
     "text": [
      "ACC\n",
      "CESC\n",
      "ESCC\n",
      "KIRP\n",
      "MESO\n",
      "PAAD\n",
      "PCPG\n",
      "SARC\n",
      "TGCT\n",
      "THYM\n",
      "UVM\n",
      "done\n"
     ]
    }
   ],
   "source": [
    "# generate 100 predictions at each sample size for each cohort\n",
    "# ~10 second runtime\n",
    "cohort_prdctns = {} # will be dict of dicts\n",
    "\n",
    "store_full_samples_and_scores = []  # <------------------- append 11 tuples\n",
    "# [(chrt1, smpl_lst, scr_lst),(chrt2, smpl_lst, scr_lst),...]\n",
    "\n",
    "for cohort_tuple in partial_response_cohorts_to_predict:\n",
    "\n",
    "    cohort = cohort_tuple[0]\n",
    "    print(cohort)\n",
    "    cohort_index = cohort_tuple[1] # to json converter\n",
    "    \n",
    "    accuracy_response_dct = {\n",
    "        int(k):[i for i in v] for k,v in json.loads( # json\n",
    "        sample_response_DF.iloc[cohort_index,1]).items()\n",
    "    }\n",
    "    accuracy_response = sorted(accuracy_response_dct.items())\n",
    "    \n",
    "    full_samples = [] # to green dots on plot\n",
    "    full_scores = []\n",
    "    \n",
    "    for i in list(range(0, len(accuracy_response))): # want for overlap on plot\n",
    "        full_samples.append(accuracy_response[i][0])\n",
    "        mean_score = mean(accuracy_response[i][1])\n",
    "        full_scores.append(mean_score)\n",
    "\n",
    "    sample_max = 14 # smp sz 75\n",
    "    sample_min = 6 # smp sz 35\n",
    "\n",
    "    fitting_samples = [] # This is 35 to 70 range\n",
    "    fitting_scores = []\n",
    "    \n",
    "    for i in list(range(sample_min, sample_max)): # Iterate fitting region\n",
    "        score_block = accuracy_response[i][1]\n",
    "        sample_size = accuracy_response[i][0]\n",
    "        fitting_samples.append(sample_size)\n",
    "        fitting_scores.append(score_block) # raw scores for this sample step size\n",
    "\n",
    "    hndrd_prdctns_smp_sz_n = []\n",
    "    \n",
    "    # Within cohort loop\n",
    "    \n",
    "    prdctn_dict = {}\n",
    "    \n",
    "    for resampling_idx in list(range(0,100)): # run the inverse power function 100 times\n",
    "\n",
    "        scores_temp = [] # 8 scores for each resampling on fitting window sample sizes\n",
    "\n",
    "        for tuple_n in accuracy_response[sample_min:sample_max]: # sorted dict, iterate 8 fitting window keys\n",
    "            \n",
    "            scores_temp.append(tuple_n[1][resampling_idx]) # Pull nth item from 100 score list value for each sample size in fitting window\n",
    "\n",
    "        front_end_param_set_n, _ = curve_fit( # Set parameters for each of 100 resamplings\n",
    "            Y_acc, # here is the inverse power function, set front-end parameters 100\n",
    "            fitting_samples,\n",
    "            scores_temp,\n",
    "            bounds=[lower,upper]\n",
    "        )\n",
    "        \n",
    "        y_predict = Y_acc(prediction_samples, *front_end_param_set_n)\n",
    "        \n",
    "        prdctn_dict[resampling_idx] = y_predict\n",
    "\n",
    "    cohort_prdctns[cohort] = prdctn_dict\n",
    "    \n",
    "    store_full_samples_and_scores.append(\n",
    "        (cohort,\n",
    "         full_samples,\n",
    "         full_scores)\n",
    "    )\n",
    "#     break       \n",
    "print('done')"
   ]
  },
  {
   "cell_type": "code",
   "execution_count": null,
   "metadata": {},
   "outputs": [],
   "source": [
    "store_full_samples_and_scores[0:2]"
   ]
  },
  {
   "cell_type": "code",
   "execution_count": null,
   "metadata": {},
   "outputs": [],
   "source": [
    "# make a list of tuples and throw it in a dataframe"
   ]
  },
  {
   "cell_type": "code",
   "execution_count": 121,
   "metadata": {},
   "outputs": [],
   "source": [
    "actualsDF = pd.DataFrame(\n",
    "    store_full_samples_and_scores,\n",
    "    columns = ['Cohort', 'Sample_sizes', 'F1_scores']\n",
    ")"
   ]
  },
  {
   "cell_type": "code",
   "execution_count": 122,
   "metadata": {},
   "outputs": [
    {
     "data": {
      "text/html": [
       "<div>\n",
       "<style scoped>\n",
       "    .dataframe tbody tr th:only-of-type {\n",
       "        vertical-align: middle;\n",
       "    }\n",
       "\n",
       "    .dataframe tbody tr th {\n",
       "        vertical-align: top;\n",
       "    }\n",
       "\n",
       "    .dataframe thead th {\n",
       "        text-align: right;\n",
       "    }\n",
       "</style>\n",
       "<table border=\"1\" class=\"dataframe\">\n",
       "  <thead>\n",
       "    <tr style=\"text-align: right;\">\n",
       "      <th></th>\n",
       "      <th>Cohort</th>\n",
       "      <th>Sample_sizes</th>\n",
       "      <th>F1_scores</th>\n",
       "    </tr>\n",
       "  </thead>\n",
       "  <tbody>\n",
       "    <tr>\n",
       "      <th>0</th>\n",
       "      <td>ACC</td>\n",
       "      <td>[5, 10, 15, 20, 25, 30, 35, 40, 45, 50, 55, 60...</td>\n",
       "      <td>[0.4739938310847402, 0.6095467495737286, 0.705...</td>\n",
       "    </tr>\n",
       "    <tr>\n",
       "      <th>1</th>\n",
       "      <td>CESC</td>\n",
       "      <td>[5, 10, 15, 20, 25, 30, 35, 40, 45, 50, 55, 60...</td>\n",
       "      <td>[0.5616009283365344, 0.704218765139108, 0.7555...</td>\n",
       "    </tr>\n",
       "    <tr>\n",
       "      <th>2</th>\n",
       "      <td>ESCC</td>\n",
       "      <td>[5, 10, 15, 20, 25, 30, 35, 40, 45, 50, 55, 60...</td>\n",
       "      <td>[0.6523366189366189, 0.7740251140324365, 0.825...</td>\n",
       "    </tr>\n",
       "    <tr>\n",
       "      <th>3</th>\n",
       "      <td>KIRP</td>\n",
       "      <td>[10, 15, 20, 25, 30, 35, 40, 45, 50, 55, 60, 6...</td>\n",
       "      <td>[0.6267214228288784, 0.671527756551954, 0.7039...</td>\n",
       "    </tr>\n",
       "    <tr>\n",
       "      <th>4</th>\n",
       "      <td>MESO</td>\n",
       "      <td>[5, 10, 15, 20, 25, 30, 35, 40, 45, 50, 55, 60...</td>\n",
       "      <td>[0.3663935495060495, 0.5486480381179202, 0.646...</td>\n",
       "    </tr>\n",
       "    <tr>\n",
       "      <th>5</th>\n",
       "      <td>PAAD</td>\n",
       "      <td>[5, 10, 15, 20, 25, 30, 35, 40, 45, 50, 55, 60...</td>\n",
       "      <td>[0.8546394324515068, 0.9170743113471431, 0.936...</td>\n",
       "    </tr>\n",
       "    <tr>\n",
       "      <th>6</th>\n",
       "      <td>PCPG</td>\n",
       "      <td>[5, 10, 15, 20, 25, 30, 35, 40, 45, 50, 55, 60...</td>\n",
       "      <td>[0.35474591528000615, 0.5407431952617062, 0.64...</td>\n",
       "    </tr>\n",
       "    <tr>\n",
       "      <th>7</th>\n",
       "      <td>SARC</td>\n",
       "      <td>[10, 15, 20, 25, 30, 35, 40, 45, 50, 55, 60, 6...</td>\n",
       "      <td>[0.7182553466381514, 0.8240490299013528, 0.856...</td>\n",
       "    </tr>\n",
       "    <tr>\n",
       "      <th>8</th>\n",
       "      <td>TGCT</td>\n",
       "      <td>[10, 15, 20, 25, 30, 35, 40, 45, 50, 55, 60, 6...</td>\n",
       "      <td>[0.9410184455788995, 0.9565277883589232, 0.969...</td>\n",
       "    </tr>\n",
       "    <tr>\n",
       "      <th>9</th>\n",
       "      <td>THYM</td>\n",
       "      <td>[5, 10, 15, 20, 25, 30, 35, 40, 45, 50, 55, 60...</td>\n",
       "      <td>[0.30140888614964245, 0.5337242380582848, 0.72...</td>\n",
       "    </tr>\n",
       "    <tr>\n",
       "      <th>10</th>\n",
       "      <td>UVM</td>\n",
       "      <td>[5, 10, 15, 20, 25, 30, 35, 40, 45, 50, 55, 60...</td>\n",
       "      <td>[0.42947041247275203, 0.7414327935862166, 0.83...</td>\n",
       "    </tr>\n",
       "  </tbody>\n",
       "</table>\n",
       "</div>"
      ],
      "text/plain": [
       "   Cohort                                       Sample_sizes  \\\n",
       "0     ACC  [5, 10, 15, 20, 25, 30, 35, 40, 45, 50, 55, 60...   \n",
       "1    CESC  [5, 10, 15, 20, 25, 30, 35, 40, 45, 50, 55, 60...   \n",
       "2    ESCC  [5, 10, 15, 20, 25, 30, 35, 40, 45, 50, 55, 60...   \n",
       "3    KIRP  [10, 15, 20, 25, 30, 35, 40, 45, 50, 55, 60, 6...   \n",
       "4    MESO  [5, 10, 15, 20, 25, 30, 35, 40, 45, 50, 55, 60...   \n",
       "5    PAAD  [5, 10, 15, 20, 25, 30, 35, 40, 45, 50, 55, 60...   \n",
       "6    PCPG  [5, 10, 15, 20, 25, 30, 35, 40, 45, 50, 55, 60...   \n",
       "7    SARC  [10, 15, 20, 25, 30, 35, 40, 45, 50, 55, 60, 6...   \n",
       "8    TGCT  [10, 15, 20, 25, 30, 35, 40, 45, 50, 55, 60, 6...   \n",
       "9    THYM  [5, 10, 15, 20, 25, 30, 35, 40, 45, 50, 55, 60...   \n",
       "10    UVM  [5, 10, 15, 20, 25, 30, 35, 40, 45, 50, 55, 60...   \n",
       "\n",
       "                                            F1_scores  \n",
       "0   [0.4739938310847402, 0.6095467495737286, 0.705...  \n",
       "1   [0.5616009283365344, 0.704218765139108, 0.7555...  \n",
       "2   [0.6523366189366189, 0.7740251140324365, 0.825...  \n",
       "3   [0.6267214228288784, 0.671527756551954, 0.7039...  \n",
       "4   [0.3663935495060495, 0.5486480381179202, 0.646...  \n",
       "5   [0.8546394324515068, 0.9170743113471431, 0.936...  \n",
       "6   [0.35474591528000615, 0.5407431952617062, 0.64...  \n",
       "7   [0.7182553466381514, 0.8240490299013528, 0.856...  \n",
       "8   [0.9410184455788995, 0.9565277883589232, 0.969...  \n",
       "9   [0.30140888614964245, 0.5337242380582848, 0.72...  \n",
       "10  [0.42947041247275203, 0.7414327935862166, 0.83...  "
      ]
     },
     "execution_count": 122,
     "metadata": {},
     "output_type": "execute_result"
    }
   ],
   "source": [
    "actualsDF"
   ]
  },
  {
   "cell_type": "code",
   "execution_count": 123,
   "metadata": {},
   "outputs": [],
   "source": [
    "cohort_prdctnsDF.to_csv( # target directory for panel plots\n",
    "    'panel_D_v2_out/cohort_actualsDF.tsv',\n",
    "    sep = '\\t',\n",
    "    index = False\n",
    ")"
   ]
  },
  {
   "cell_type": "code",
   "execution_count": null,
   "metadata": {},
   "outputs": [],
   "source": [
    "cohort_prdctns"
   ]
  },
  {
   "cell_type": "code",
   "execution_count": null,
   "metadata": {},
   "outputs": [],
   "source": [
    "# Next steps: 2021-10-24\n",
    "\n",
    "# Put cohort_prdctns in dataframe - done\n",
    "# Write cohort_prdctns dataframe to file - done\n",
    "\n",
    "# pre process into lists of 100 predictions for each sample size\n",
    "# Feed to Burr12, get point predcitions for each sample size\n",
    "\n",
    "    # Make histogram at each sample size (?) - use peak val as y vector len 18, \n",
    "    # sample sizes 80 - 250 as x val\n",
    "\n",
    "# Feed point predictions at each prediction sample size to plot function"
   ]
  },
  {
   "cell_type": "code",
   "execution_count": 56,
   "metadata": {},
   "outputs": [],
   "source": [
    "cohort_prdctnsDF = pd.DataFrame(cohort_prdctns)"
   ]
  },
  {
   "cell_type": "code",
   "execution_count": 67,
   "metadata": {},
   "outputs": [
    {
     "name": "stdout",
     "output_type": "stream",
     "text": [
      "ACC\n",
      "18\n"
     ]
    }
   ],
   "source": [
    "# Check lengths of score lists match length of prediction sample size list\n",
    "for i in cohort_prdctnsDF:\n",
    "    print(i)\n",
    "    scrs_rsmlng_n = cohort_prdctnsDF.loc[0, i]\n",
    "    print(len(scrs_rsmlng_n))\n",
    "    break"
   ]
  },
  {
   "cell_type": "code",
   "execution_count": 68,
   "metadata": {},
   "outputs": [
    {
     "data": {
      "text/plain": [
       "18"
      ]
     },
     "execution_count": 68,
     "metadata": {},
     "output_type": "execute_result"
    }
   ],
   "source": [
    "len(prediction_samples) # check"
   ]
  },
  {
   "cell_type": "code",
   "execution_count": 63,
   "metadata": {},
   "outputs": [],
   "source": [
    "cohort_prdctnsDF.to_csv( # target directory for panel plots\n",
    "    'panel_D_v2_out/cohort_prdctnsDF.tsv',\n",
    "    sep = '\\t',\n",
    "    index = False\n",
    ")"
   ]
  },
  {
   "cell_type": "code",
   "execution_count": 75,
   "metadata": {},
   "outputs": [
    {
     "ename": "NameError",
     "evalue": "name 'j' is not defined",
     "output_type": "error",
     "traceback": [
      "\u001b[0;31m---------------------------------------------------------------------------\u001b[0m",
      "\u001b[0;31mNameError\u001b[0m                                 Traceback (most recent call last)",
      "\u001b[0;32m<ipython-input-75-3eedd8854d1e>\u001b[0m in \u001b[0;36m<module>\u001b[0;34m\u001b[0m\n\u001b[0;32m----> 1\u001b[0;31m \u001b[0mj\u001b[0m\u001b[0;34m\u001b[0m\u001b[0;34m\u001b[0m\u001b[0m\n\u001b[0m",
      "\u001b[0;31mNameError\u001b[0m: name 'j' is not defined"
     ]
    }
   ],
   "source": [
    "j"
   ]
  },
  {
   "cell_type": "code",
   "execution_count": null,
   "metadata": {},
   "outputs": [],
   "source": [
    "# pseudo template\n",
    "burr12_input_list = ('CHRT', [])"
   ]
  },
  {
   "cell_type": "code",
   "execution_count": 89,
   "metadata": {},
   "outputs": [
    {
     "data": {
      "text/plain": [
       "[0, 1, 2, 3, 4, 5, 6, 7, 8, 9, 10, 11, 12, 13, 14, 15, 16, 17]"
      ]
     },
     "execution_count": 89,
     "metadata": {},
     "output_type": "execute_result"
    }
   ],
   "source": [
    "list(range(0,18))"
   ]
  },
  {
   "cell_type": "code",
   "execution_count": 87,
   "metadata": {},
   "outputs": [],
   "source": [
    "# Get ACC prediction at sample size 80\n",
    "scores_at_sample_size_n = []\n",
    "\n",
    "for i in cohort_prdctnsDF.index: # i is 100 resampling indexes\n",
    "    scores_at_18_sample_sizes = cohort_prdctnsDF.iloc[i, 0] # zero locks to ACC\n",
    "    score_at_eighty = scores_at_18_sample_sizes[0] # zero locks to sample size 80\n",
    "    scores_at_sample_size_n.append(score_at_eighty)\n",
    "#     break"
   ]
  },
  {
   "cell_type": "code",
   "execution_count": 92,
   "metadata": {},
   "outputs": [
    {
     "data": {
      "text/plain": [
       "[0.8382187907675323,\n",
       " 0.893900002539847,\n",
       " 0.8818616362573108,\n",
       " 0.8506080336786486,\n",
       " 0.8609745875207704,\n",
       " 0.8604600188523139,\n",
       " 0.8837457655087918,\n",
       " 0.8783709452805467,\n",
       " 0.9049597572040807,\n",
       " 0.897701715822706,\n",
       " 0.8794451701291537,\n",
       " 0.8689865333740892,\n",
       " 0.8845770280791581,\n",
       " 0.863870754541219,\n",
       " 0.9041281996063818,\n",
       " 0.8990333556574026,\n",
       " 0.8853045959474388,\n",
       " 0.8983647408707396,\n",
       " 0.8809848119235838,\n",
       " 0.8818893751630845,\n",
       " 0.842137625693031,\n",
       " 0.8815917702484772,\n",
       " 0.8996954806660644,\n",
       " 0.9254330106368303,\n",
       " 0.856254640377708,\n",
       " 0.877142335804098,\n",
       " 0.8560464650567302,\n",
       " 0.8718066550839818,\n",
       " 0.8597587291011425,\n",
       " 0.8903083732108632,\n",
       " 0.9021698910549873,\n",
       " 0.906700596263247,\n",
       " 0.8950245395889769,\n",
       " 0.8372331990229167,\n",
       " 0.8588025165407607,\n",
       " 0.8708647909752116,\n",
       " 0.8605971319108864,\n",
       " 0.8625381887710172,\n",
       " 0.8819124858379565,\n",
       " 0.8628059507822528,\n",
       " 0.8779710513414816,\n",
       " 0.8978947571572095,\n",
       " 0.911095139395452,\n",
       " 0.8930594689814993,\n",
       " 0.894821098375193,\n",
       " 0.8865845510194302,\n",
       " 0.8674030204435813,\n",
       " 0.8598575561931348,\n",
       " 0.9025677554856858,\n",
       " 0.8574893280146468,\n",
       " 0.8738109376683368,\n",
       " 0.8775844470869442,\n",
       " 0.8812959320590374,\n",
       " 0.9027826224861921,\n",
       " 0.885447243720635,\n",
       " 0.8091525637768175,\n",
       " 0.8625649538929687,\n",
       " 0.8501766870089542,\n",
       " 0.8748020074742054,\n",
       " 0.8553032125088869,\n",
       " 0.8501516080926376,\n",
       " 0.869280608521791,\n",
       " 0.8928166630067325,\n",
       " 0.8970754611896582,\n",
       " 0.8906647136152605,\n",
       " 0.8286529132685,\n",
       " 0.8965321875877239,\n",
       " 0.8505068452793099,\n",
       " 0.9046363421194162,\n",
       " 0.8866054427554402,\n",
       " 0.8777141848240637,\n",
       " 0.865910420030514,\n",
       " 0.888923986462282,\n",
       " 0.8925674425415284,\n",
       " 0.8708579912989982,\n",
       " 0.8974276096862821,\n",
       " 0.8875125836888653,\n",
       " 0.9067634859804928,\n",
       " 0.8821079266031157,\n",
       " 0.87475445949262,\n",
       " 0.8960944975769358,\n",
       " 0.8868634468851909,\n",
       " 0.8841516195896152,\n",
       " 0.9103023698850217,\n",
       " 0.8840242570148162,\n",
       " 0.8259414964550248,\n",
       " 0.9108637905426412,\n",
       " 0.8835668952772902,\n",
       " 0.9038695462849029,\n",
       " 0.8782901608589039,\n",
       " 0.870032238507705,\n",
       " 0.8697510009210041,\n",
       " 0.8886814449803876,\n",
       " 0.8507133629813598,\n",
       " 0.8416964180388534,\n",
       " 0.8934072115501944,\n",
       " 0.9038037966526422,\n",
       " 0.8752491430102568,\n",
       " 0.864370952357836,\n",
       " 0.9090934176500967]"
      ]
     },
     "execution_count": 92,
     "metadata": {},
     "output_type": "execute_result"
    }
   ],
   "source": [
    "scores_at_sample_size_n"
   ]
  },
  {
   "cell_type": "code",
   "execution_count": 60,
   "metadata": {},
   "outputs": [
    {
     "data": {
      "text/html": [
       "<div>\n",
       "<style scoped>\n",
       "    .dataframe tbody tr th:only-of-type {\n",
       "        vertical-align: middle;\n",
       "    }\n",
       "\n",
       "    .dataframe tbody tr th {\n",
       "        vertical-align: top;\n",
       "    }\n",
       "\n",
       "    .dataframe thead th {\n",
       "        text-align: right;\n",
       "    }\n",
       "</style>\n",
       "<table border=\"1\" class=\"dataframe\">\n",
       "  <thead>\n",
       "    <tr style=\"text-align: right;\">\n",
       "      <th></th>\n",
       "      <th>ACC</th>\n",
       "      <th>CESC</th>\n",
       "      <th>ESCC</th>\n",
       "      <th>KIRP</th>\n",
       "      <th>MESO</th>\n",
       "      <th>PAAD</th>\n",
       "      <th>PCPG</th>\n",
       "      <th>SARC</th>\n",
       "      <th>TGCT</th>\n",
       "      <th>THYM</th>\n",
       "      <th>UVM</th>\n",
       "    </tr>\n",
       "  </thead>\n",
       "  <tbody>\n",
       "    <tr>\n",
       "      <th>0</th>\n",
       "      <td>[0.8382187907675323, 0.8418947790584, 0.845112...</td>\n",
       "      <td>[0.909872303275726, 0.9150539101965379, 0.9191...</td>\n",
       "      <td>[0.9692854260298397, 0.9726981564709687, 0.975...</td>\n",
       "      <td>[0.8652471123762759, 0.8731122277443029, 0.879...</td>\n",
       "      <td>[0.9080200572760053, 0.9085149274590572, 0.908...</td>\n",
       "      <td>[0.9928449611314318, 0.9936399654501616, 0.994...</td>\n",
       "      <td>[0.8671683922674278, 0.8796874922262635, 0.889...</td>\n",
       "      <td>[0.9510904509706972, 0.953073159781579, 0.9546...</td>\n",
       "      <td>[0.9884740840259746, 0.9897547413564217, 0.990...</td>\n",
       "      <td>[0.9473370643944479, 0.944802590403403, 0.9427...</td>\n",
       "      <td>[0.9606724508964246, 0.9597508651939678, 0.959...</td>\n",
       "    </tr>\n",
       "    <tr>\n",
       "      <th>1</th>\n",
       "      <td>[0.893900002539847, 0.9029991610889868, 0.9102...</td>\n",
       "      <td>[0.915277066769725, 0.9238631303622837, 0.9307...</td>\n",
       "      <td>[0.9616815466679681, 0.9659391525937494, 0.969...</td>\n",
       "      <td>[0.8884587763515603, 0.9008522456458314, 0.910...</td>\n",
       "      <td>[0.9347091736841844, 0.9419637099414957, 0.947...</td>\n",
       "      <td>[0.9849028305307683, 0.9865802938051262, 0.987...</td>\n",
       "      <td>[0.8881111954655186, 0.8975554873691425, 0.905...</td>\n",
       "      <td>[0.9349976135793306, 0.932165537053411, 0.9296...</td>\n",
       "      <td>[0.9679433516093121, 0.9670105014100363, 0.966...</td>\n",
       "      <td>[0.9555759047382103, 0.9593586717404504, 0.962...</td>\n",
       "      <td>[0.9527801805276821, 0.9513474721293085, 0.950...</td>\n",
       "    </tr>\n",
       "    <tr>\n",
       "      <th>2</th>\n",
       "      <td>[0.8818616362573108, 0.8881216074417773, 0.893...</td>\n",
       "      <td>[0.8883989614553234, 0.8943932339305308, 0.899...</td>\n",
       "      <td>[0.9692268629497965, 0.9726461003998191, 0.975...</td>\n",
       "      <td>[0.8872807847802144, 0.8973745891368292, 0.905...</td>\n",
       "      <td>[0.916074352862361, 0.9197371747590343, 0.9228...</td>\n",
       "      <td>[0.9875542947366729, 0.9889371508770426, 0.990...</td>\n",
       "      <td>[0.8973620568035858, 0.9077115446591809, 0.916...</td>\n",
       "      <td>[0.938570365783771, 0.942331684729864, 0.94534...</td>\n",
       "      <td>[0.9813468639398695, 0.9834194346132069, 0.985...</td>\n",
       "      <td>[0.9629921238386588, 0.9671041100788078, 0.970...</td>\n",
       "      <td>[0.9559828248390072, 0.9547816267811415, 0.953...</td>\n",
       "    </tr>\n",
       "    <tr>\n",
       "      <th>3</th>\n",
       "      <td>[0.8506080336786486, 0.8507678113635809, 0.850...</td>\n",
       "      <td>[0.9247010397399882, 0.9330675908799895, 0.939...</td>\n",
       "      <td>[0.9719170614161609, 0.9750373879250867, 0.977...</td>\n",
       "      <td>[0.8332862112477557, 0.8340444853165476, 0.834...</td>\n",
       "      <td>[0.9415470349234486, 0.9480418088207939, 0.953...</td>\n",
       "      <td>[0.987869964730063, 0.9892177464267227, 0.9902...</td>\n",
       "      <td>[0.8950263585222819, 0.9027398464992564, 0.908...</td>\n",
       "      <td>[0.9446396375102474, 0.9507907888979973, 0.955...</td>\n",
       "      <td>[0.9897579167714603, 0.9908959260190758, 0.991...</td>\n",
       "      <td>[0.9584420502479416, 0.9630596002194255, 0.966...</td>\n",
       "      <td>[0.9662215609661312, 0.9699747208587832, 0.972...</td>\n",
       "    </tr>\n",
       "    <tr>\n",
       "      <th>4</th>\n",
       "      <td>[0.8609745875207704, 0.8658338225590076, 0.870...</td>\n",
       "      <td>[0.9179211657590387, 0.9253106898097483, 0.931...</td>\n",
       "      <td>[0.9596441781365808, 0.963342823373587, 0.9663...</td>\n",
       "      <td>[0.850418285134239, 0.8517793894531969, 0.8529...</td>\n",
       "      <td>[0.938576127967859, 0.9454010026377074, 0.9508...</td>\n",
       "      <td>[0.9942777880790086, 0.9949135894035632, 0.995...</td>\n",
       "      <td>[0.9051830407562852, 0.9137723517852017, 0.920...</td>\n",
       "      <td>[0.9418004041476091, 0.9482670259087523, 0.953...</td>\n",
       "      <td>[0.9776882643201888, 0.9801673460623825, 0.982...</td>\n",
       "      <td>[0.9599207356000852, 0.9643739872000757, 0.967...</td>\n",
       "      <td>[0.9721552463848462, 0.9752491078976411, 0.977...</td>\n",
       "    </tr>\n",
       "  </tbody>\n",
       "</table>\n",
       "</div>"
      ],
      "text/plain": [
       "                                                 ACC  \\\n",
       "0  [0.8382187907675323, 0.8418947790584, 0.845112...   \n",
       "1  [0.893900002539847, 0.9029991610889868, 0.9102...   \n",
       "2  [0.8818616362573108, 0.8881216074417773, 0.893...   \n",
       "3  [0.8506080336786486, 0.8507678113635809, 0.850...   \n",
       "4  [0.8609745875207704, 0.8658338225590076, 0.870...   \n",
       "\n",
       "                                                CESC  \\\n",
       "0  [0.909872303275726, 0.9150539101965379, 0.9191...   \n",
       "1  [0.915277066769725, 0.9238631303622837, 0.9307...   \n",
       "2  [0.8883989614553234, 0.8943932339305308, 0.899...   \n",
       "3  [0.9247010397399882, 0.9330675908799895, 0.939...   \n",
       "4  [0.9179211657590387, 0.9253106898097483, 0.931...   \n",
       "\n",
       "                                                ESCC  \\\n",
       "0  [0.9692854260298397, 0.9726981564709687, 0.975...   \n",
       "1  [0.9616815466679681, 0.9659391525937494, 0.969...   \n",
       "2  [0.9692268629497965, 0.9726461003998191, 0.975...   \n",
       "3  [0.9719170614161609, 0.9750373879250867, 0.977...   \n",
       "4  [0.9596441781365808, 0.963342823373587, 0.9663...   \n",
       "\n",
       "                                                KIRP  \\\n",
       "0  [0.8652471123762759, 0.8731122277443029, 0.879...   \n",
       "1  [0.8884587763515603, 0.9008522456458314, 0.910...   \n",
       "2  [0.8872807847802144, 0.8973745891368292, 0.905...   \n",
       "3  [0.8332862112477557, 0.8340444853165476, 0.834...   \n",
       "4  [0.850418285134239, 0.8517793894531969, 0.8529...   \n",
       "\n",
       "                                                MESO  \\\n",
       "0  [0.9080200572760053, 0.9085149274590572, 0.908...   \n",
       "1  [0.9347091736841844, 0.9419637099414957, 0.947...   \n",
       "2  [0.916074352862361, 0.9197371747590343, 0.9228...   \n",
       "3  [0.9415470349234486, 0.9480418088207939, 0.953...   \n",
       "4  [0.938576127967859, 0.9454010026377074, 0.9508...   \n",
       "\n",
       "                                                PAAD  \\\n",
       "0  [0.9928449611314318, 0.9936399654501616, 0.994...   \n",
       "1  [0.9849028305307683, 0.9865802938051262, 0.987...   \n",
       "2  [0.9875542947366729, 0.9889371508770426, 0.990...   \n",
       "3  [0.987869964730063, 0.9892177464267227, 0.9902...   \n",
       "4  [0.9942777880790086, 0.9949135894035632, 0.995...   \n",
       "\n",
       "                                                PCPG  \\\n",
       "0  [0.8671683922674278, 0.8796874922262635, 0.889...   \n",
       "1  [0.8881111954655186, 0.8975554873691425, 0.905...   \n",
       "2  [0.8973620568035858, 0.9077115446591809, 0.916...   \n",
       "3  [0.8950263585222819, 0.9027398464992564, 0.908...   \n",
       "4  [0.9051830407562852, 0.9137723517852017, 0.920...   \n",
       "\n",
       "                                                SARC  \\\n",
       "0  [0.9510904509706972, 0.953073159781579, 0.9546...   \n",
       "1  [0.9349976135793306, 0.932165537053411, 0.9296...   \n",
       "2  [0.938570365783771, 0.942331684729864, 0.94534...   \n",
       "3  [0.9446396375102474, 0.9507907888979973, 0.955...   \n",
       "4  [0.9418004041476091, 0.9482670259087523, 0.953...   \n",
       "\n",
       "                                                TGCT  \\\n",
       "0  [0.9884740840259746, 0.9897547413564217, 0.990...   \n",
       "1  [0.9679433516093121, 0.9670105014100363, 0.966...   \n",
       "2  [0.9813468639398695, 0.9834194346132069, 0.985...   \n",
       "3  [0.9897579167714603, 0.9908959260190758, 0.991...   \n",
       "4  [0.9776882643201888, 0.9801673460623825, 0.982...   \n",
       "\n",
       "                                                THYM  \\\n",
       "0  [0.9473370643944479, 0.944802590403403, 0.9427...   \n",
       "1  [0.9555759047382103, 0.9593586717404504, 0.962...   \n",
       "2  [0.9629921238386588, 0.9671041100788078, 0.970...   \n",
       "3  [0.9584420502479416, 0.9630596002194255, 0.966...   \n",
       "4  [0.9599207356000852, 0.9643739872000757, 0.967...   \n",
       "\n",
       "                                                 UVM  \n",
       "0  [0.9606724508964246, 0.9597508651939678, 0.959...  \n",
       "1  [0.9527801805276821, 0.9513474721293085, 0.950...  \n",
       "2  [0.9559828248390072, 0.9547816267811415, 0.953...  \n",
       "3  [0.9662215609661312, 0.9699747208587832, 0.972...  \n",
       "4  [0.9721552463848462, 0.9752491078976411, 0.977...  "
      ]
     },
     "execution_count": 60,
     "metadata": {},
     "output_type": "execute_result"
    }
   ],
   "source": [
    "cohort_prdctnsDF.head()\n",
    "# Each row is a resampling"
   ]
  },
  {
   "cell_type": "code",
   "execution_count": null,
   "metadata": {},
   "outputs": [],
   "source": [
    "# Formatting to-do list\n",
    "# Add alpha raws\n",
    "# Add title\n",
    "# axes titles\n",
    "# key"
   ]
  },
  {
   "cell_type": "code",
   "execution_count": 139,
   "metadata": {},
   "outputs": [],
   "source": [
    "import matplotlib"
   ]
  },
  {
   "cell_type": "code",
   "execution_count": 140,
   "metadata": {},
   "outputs": [
    {
     "name": "stdout",
     "output_type": "stream",
     "text": [
      "3.4.3\n"
     ]
    }
   ],
   "source": [
    "print(matplotlib.__version__)"
   ]
  },
  {
   "cell_type": "code",
   "execution_count": 168,
   "metadata": {},
   "outputs": [
    {
     "data": {
      "text/plain": [
       "[0.4739938310847402,\n",
       " 0.6095467495737286,\n",
       " 0.7059698211452738,\n",
       " 0.7320100492666509,\n",
       " 0.7753934094701465,\n",
       " 0.7976278873754781,\n",
       " 0.8175519337482526,\n",
       " 0.8262655838765793,\n",
       " 0.8441491629566804,\n",
       " 0.8500055686902052,\n",
       " 0.8552137164335809,\n",
       " 0.8599484436588266,\n",
       " 0.8716040058898213,\n",
       " 0.8706254272060039,\n",
       " 0.8764772554926882]"
      ]
     },
     "execution_count": 168,
     "metadata": {},
     "output_type": "execute_result"
    }
   ],
   "source": [
    "store_full_samples_and_scores[0][2]"
   ]
  },
  {
   "cell_type": "code",
   "execution_count": null,
   "metadata": {},
   "outputs": [],
   "source": [
    "# Put on error bars:\n",
    "    # Loop over raw observed values\n",
    "    # 100 per step size\n",
    "    # object name: "
   ]
  },
  {
   "cell_type": "code",
   "execution_count": 169,
   "metadata": {},
   "outputs": [
    {
     "data": {
      "image/png": "[encoded data removed]",
      "text/plain": [
       "<Figure size 720x720 with 1 Axes>"
      ]
     },
     "metadata": {
      "needs_background": "light"
     },
     "output_type": "display_data"
    }
   ],
   "source": [
    "# ACC at 80 - 250\n",
    "cohort = 'ACC'\n",
    "dist = getattr(stats, 'burr12')\n",
    "n = 100\n",
    "obs_CI_range = []\n",
    "prdct_CI_range = []\n",
    "\n",
    "peak_val_list = [] # list of peak values for 18 sample sizes\n",
    "\n",
    "for j in list(range(0,18)):\n",
    "    \n",
    "\n",
    "    scores_at_sample_size_n = []\n",
    "\n",
    "    for i in cohort_prdctnsDF.index: # i is 100 resampling indexes\n",
    "        scores_at_18_sample_sizes = cohort_prdctnsDF.iloc[i, 0] # zero locks to ACC\n",
    "        score_at_smp_sz_n = scores_at_18_sample_sizes[j] # step through sample sizes\n",
    "        scores_at_sample_size_n.append(score_at_smp_sz_n)\n",
    "        \n",
    "        # Insert prediction error bars here, version 5\n",
    "        \n",
    "        \n",
    "\n",
    "    a, b = dist.fit(scores_at_sample_size_n, floc=0, fscale=1)[:2]\n",
    "\n",
    "    mxlst = list(\n",
    "        dist.pdf(\n",
    "            np.linspace(\n",
    "                min(\n",
    "                    scores_at_sample_size_n),\n",
    "                max(\n",
    "                    scores_at_sample_size_n),\n",
    "                100),\n",
    "            a,\n",
    "            b\n",
    "        )\n",
    "    )\n",
    "\n",
    "    mxv = max(mxlst)\n",
    "    x_ndx = mxlst.index(mxv)\n",
    "    xlst = np.linspace(min(scores_at_sample_size_n), max(scores_at_sample_size_n), 100)\n",
    "\n",
    "    peak_val_list.append(xlst[x_ndx])\n",
    "    \n",
    "fig, ax = plt.subplots(figsize = (6,6), dpi = 120)\n",
    "\n",
    "ax.scatter(\n",
    "    store_full_samples_and_scores[0][1],\n",
    "    store_full_samples_and_scores[0][2], color = 'green'\n",
    ")\n",
    "\n",
    "obs_CI_range = []\n",
    "\n",
    "for i, score_set in enumerate(store_full_samples_and_scores[0][2]):\n",
    "    xbar = statistics.mean(store_full_samples_and_scores[0][2])\n",
    "    z = 1.96 # 95%\n",
    "    s = statistics.stdev(store_full_samples_and_scores[0][2])\n",
    "    obs_CI_range.append(z * (s/math.sqrt(n)))\n",
    "\n",
    "# ax.errorbar( # fail, need to iterate raw observed F1 values\n",
    "#     store_full_samples_and_scores[0][1],\n",
    "#     store_full_samples_and_scores[0][2],\n",
    "#     yerr = obs_CI_range[i],\n",
    "#     ecolor = 'green',\n",
    "#     ls = '',\n",
    "#     elinewidth = 2,\n",
    "#     capthick = 2,\n",
    "#     capsize = 3\n",
    "# )\n",
    "\n",
    "ax.scatter(\n",
    "    prediction_samples,\n",
    "    peak_val_list, color = 'red'\n",
    ")\n",
    "\n",
    "plt.title('Adrenocortical carcinoma prediction',\n",
    "    fontsize = 10.5)\n",
    "\n",
    "axis_labs = 9\n",
    "ax.set_xlabel('Training set size', fontsize = axis_labs)\n",
    "ax.set_ylabel('F1 score', fontsize = axis_labs)\n",
    "\n",
    "ax.scatter(\n",
    "    150,\n",
    "    .65,c = 'green', s = 80\n",
    ")\n",
    "\n",
    "ax.scatter(\n",
    "    150,\n",
    "    .68,c = 'red', s = 80\n",
    ")\n",
    "\n",
    "plt.text(160, .65, 'Observed F1 scores', va = 'center')\n",
    "plt.text(160, .68, 'Predicted F1 scores', va = 'center')\n",
    "\n",
    "plt.savefig(\n",
    "    'panel_D_v2_out/ACC_predict_err.png',\n",
    "    dpi=180\n",
    ")"
   ]
  },
  {
   "cell_type": "code",
   "execution_count": null,
   "metadata": {},
   "outputs": [],
   "source": [
    "# Write panel D to file - done"
   ]
  },
  {
   "cell_type": "code",
   "execution_count": null,
   "metadata": {},
   "outputs": [],
   "source": [
    "# Make eleven individual panels - use loop"
   ]
  },
  {
   "cell_type": "code",
   "execution_count": null,
   "metadata": {},
   "outputs": [],
   "source": [
    "# Format note:\n",
    "# https://stackoverflow.com/questions/52111413/circle-in-the-legend-handle-doesnt-work-in-matplotlib\n",
    "\n",
    "from matplotlib.lines import Line2D\n",
    "import matplotlib.pyplot as plt\n",
    "\n",
    "red_circle = Line2D([0], [0], marker='o', color='w', label='Circle',\n",
    "                        markerfacecolor='r', markersize=15),\n",
    "plt.legend(handles=red_circle)"
   ]
  },
  {
   "cell_type": "code",
   "execution_count": 151,
   "metadata": {},
   "outputs": [
    {
     "data": {
      "image/png": "[encoded data removed]",
      "text/plain": [
       "<Figure size 432x288 with 1 Axes>"
      ]
     },
     "metadata": {
      "needs_background": "light"
     },
     "output_type": "display_data"
    }
   ],
   "source": [
    "x = [1,2,3]\n",
    "y = [2,4,6]\n",
    "c = ['red','green','grey']\n",
    "# s = np.random.randint(10, 220, size=N)\n",
    "\n",
    "fig, ax = plt.subplots()\n",
    "\n",
    "scatter = ax.scatter(\n",
    "    x, y, c=c,\n",
    "#     s=s\n",
    ")\n",
    "\n",
    "# produce a legend with the unique colors from the scatter\n",
    "legend1 = ax.legend(*scatter.legend_elements(),\n",
    "                    loc=\"lower left\", title=\"Classes\")\n",
    "ax.add_artist(legend1)\n",
    "\n",
    "plt.show()"
   ]
  },
  {
   "cell_type": "code",
   "execution_count": 147,
   "metadata": {},
   "outputs": [
    {
     "data": {
      "image/png": "[encoded data removed]",
      "text/plain": [
       "<Figure size 432x288 with 1 Axes>"
      ]
     },
     "metadata": {
      "needs_background": "light"
     },
     "output_type": "display_data"
    }
   ],
   "source": [
    "# Template\n",
    "N = 45\n",
    "x, y = np.random.rand(2, N)\n",
    "c = np.random.randint(1, 5, size=N)\n",
    "s = np.random.randint(10, 220, size=N)\n",
    "\n",
    "fig, ax = plt.subplots()\n",
    "\n",
    "scatter = ax.scatter(x, y, c=c, s=s)\n",
    "\n",
    "# produce a legend with the unique colors from the scatter\n",
    "legend1 = ax.legend(*scatter.legend_elements(),\n",
    "                    loc=\"lower left\", title=\"Classes\")\n",
    "ax.add_artist(legend1)\n",
    "\n",
    "# produce a legend with a cross section of sizes from the scatter\n",
    "handles, labels = scatter.legend_elements(prop=\"sizes\", alpha=0.6)\n",
    "legend2 = ax.legend(handles, labels, loc=\"upper right\", title=\"Sizes\")\n",
    "\n",
    "plt.show()"
   ]
  },
  {
   "cell_type": "code",
   "execution_count": null,
   "metadata": {},
   "outputs": [],
   "source": [
    "# Devel notes:\n",
    "# get MSE for overlap points"
   ]
  },
  {
   "cell_type": "code",
   "execution_count": null,
   "metadata": {},
   "outputs": [],
   "source": [
    "# Code parking lot\n",
    "#     raw_mean_list = []\n",
    "#     raw_median_list = []\n",
    "\n",
    "#     cohort_list = []\n",
    "\n",
    "#     plt.savefig('./version_6/'+cohort+'_'+distri+'_distr_trnslc2.png',\n",
    "#                 facecolor=fig.get_facecolor(), edgecolor='none',\n",
    "#                 bbox_inches = 'tight')"
   ]
  }
 ],
 "metadata": {
  "kernelspec": {
   "display_name": "Python 3",
   "language": "python",
   "name": "python3"
  },
  "language_info": {
   "codemirror_mode": {
    "name": "ipython",
    "version": 3
   },
   "file_extension": ".py",
   "mimetype": "text/x-python",
   "name": "python",
   "nbconvert_exporter": "python",
   "pygments_lexer": "ipython3",
   "version": "3.7.3"
  }
 },
 "nbformat": 4,
 "nbformat_minor": 4
}
