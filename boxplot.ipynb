{
 "cells": [
  {
   "cell_type": "code",
   "execution_count": 1,
   "metadata": {},
   "outputs": [],
   "source": [
    "import pandas as pd\n",
    "import matplotlib.pyplot as plt\n",
    "import seaborn as sns\n",
    "from statannot import add_stat_annotation"
   ]
  },
  {
   "cell_type": "code",
   "execution_count": 10,
   "metadata": {},
   "outputs": [
    {
     "data": {
      "text/plain": [
       "'/Users/karlberb/work/tmp/scatter'"
      ]
     },
     "execution_count": 10,
     "metadata": {},
     "output_type": "execute_result"
    }
   ],
   "source": [
    "pwd"
   ]
  },
  {
   "cell_type": "code",
   "execution_count": 11,
   "metadata": {},
   "outputs": [
    {
     "name": "stdout",
     "output_type": "stream",
     "text": [
      "7BCD_distribution_search.7.ipynb    \u001b[34mlabels_error\u001b[m\u001b[m/\n",
      "Actual_vs._predicted_3_panel.png    panel_D.ipynb\n",
      "Actual_vs._predicted_3_panel.svg    \u001b[34mpngs\u001b[m\u001b[m/\n",
      "F1_actual_vs._predicted_PDF.pdf     scatter.ipynb\n",
      "F1_actual_vs._predicted_hi_res.pdf  scatter_boxes.ipynb\n",
      "box_stars.png                       scatter_boxes_error.ipynb\n",
      "boxplot.ipynb                       scatter_boxes_error_v2.ipynb\n",
      "clean_store.tsv                     scatter_sub.ipynb\n",
      "clean_store_predict.tsv             scatter_sub_predict.ipynb\n",
      "clean_store_predict2.tsv            storDF.tsv\n",
      "\u001b[34mdata\u001b[m\u001b[m/                               sub_scatter.ipynb\n",
      "df2.tsv                             \u001b[34msub_scatter_images\u001b[m\u001b[m/\n",
      "fin_val_lsts.tsv                    sub_scatter_predict.ipynb\n"
     ]
    }
   ],
   "source": [
    "ls"
   ]
  },
  {
   "cell_type": "code",
   "execution_count": 5,
   "metadata": {},
   "outputs": [],
   "source": [
    "df2 = pd.read_csv(\n",
    "    'df2.tsv',\n",
    "    sep = '\\t'\n",
    ")"
   ]
  },
  {
   "cell_type": "code",
   "execution_count": 8,
   "metadata": {},
   "outputs": [
    {
     "name": "stdout",
     "output_type": "stream",
     "text": [
      "p-value annotation legend:\n",
      "ns: 5.00e-02 < p <= 1.00e+00\n",
      "*: 1.00e-02 < p <= 5.00e-02\n",
      "**: 1.00e-03 < p <= 1.00e-02\n",
      "***: 1.00e-04 < p <= 1.00e-03\n",
      "****: p <= 1.00e-04\n",
      "\n",
      "> 250 samples v.s. < 250 samples: Mann-Whitney-Wilcoxon test two-sided with Bonferroni correction, P_val=4.297e-03 U_stat=2.700e+01\n"
     ]
    },
    {
     "data": {
      "image/png": "[encoded data removed]",
      "text/plain": [
       "<Figure size 432x288 with 1 Axes>"
      ]
     },
     "metadata": {
      "needs_background": "light"
     },
     "output_type": "display_data"
    }
   ],
   "source": [
    "x = \"Sample size group\"\n",
    "y = \"F1 score\"\n",
    "order = ['> 250 samples', '< 250 samples']\n",
    "ax = sns.boxplot(\n",
    "    data=df2, x=x, y=y, order=order,\n",
    "    color = 'lightgrey'\n",
    ")\n",
    "add_stat_annotation(ax, data=df2, x=x, y=y, order=order,\n",
    "                    box_pairs=[(\"> 250 samples\", \"< 250 samples\")],\n",
    "                    test='Mann-Whitney', text_format='star', loc='outside', verbose=2)\n",
    "plt.title('F1 score difference, cohorts over/under 250 samples',\n",
    "         y = 1.11,\n",
    "         weight = 'bold')\n",
    "plt.savefig('box_stars.png', bbox_inches = 'tight')"
   ]
  },
  {
   "cell_type": "code",
   "execution_count": 9,
   "metadata": {},
   "outputs": [
    {
     "data": {
      "text/plain": [
       "'/Users/karlberb/work/tmp/scatter'"
      ]
     },
     "execution_count": 9,
     "metadata": {},
     "output_type": "execute_result"
    }
   ],
   "source": [
    "pwd"
   ]
  }
 ],
 "metadata": {
  "kernelspec": {
   "display_name": "Python 3",
   "language": "python",
   "name": "python3"
  },
  "language_info": {
   "codemirror_mode": {
    "name": "ipython",
    "version": 3
   },
   "file_extension": ".py",
   "mimetype": "text/x-python",
   "name": "python",
   "nbconvert_exporter": "python",
   "pygments_lexer": "ipython3",
   "version": "3.7.3"
  }
 },
 "nbformat": 4,
 "nbformat_minor": 4
}
